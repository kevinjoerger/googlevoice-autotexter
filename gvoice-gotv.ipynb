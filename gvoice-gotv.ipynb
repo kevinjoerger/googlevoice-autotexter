{
 "cells": [
  {
   "cell_type": "code",
   "execution_count": 1,
   "metadata": {},
   "outputs": [],
   "source": [
    "from googlevoice import Voice\n",
    "from googlevoice import util\n",
    "import sys\n",
    "import fileinput\n",
    "import csv\n",
    "import pprint\n",
    "import pandas as pd\n",
    "import random\n",
    "import time\n",
    "import BeautifulSoup"
   ]
  },
  {
   "cell_type": "code",
   "execution_count": 3,
   "metadata": {},
   "outputs": [
    {
     "data": {
      "text/plain": [
       "\"Hi there {}! I'm {} with the Trapezoid of Discovery. I wanted to check and see if you had a plan to vote today, or if you've already voted. Your polling location is {}, open til 8pm. Please let me know if you have any questions, especially about Space Horse. Thank you very much!\""
      ]
     },
     "execution_count": 3,
     "metadata": {},
     "output_type": "execute_result"
    }
   ],
   "source": [
    "# Use this function to generate text body at time of send. \n",
    "# Also saves your ass if you accidentally target the same person multiple times.\n",
    "\n",
    "message_components = [\n",
    "    [\n",
    "        \"Hi {}! \", \n",
    "        \"Hey there {}! \",\n",
    "        \"Hey {}! \",\n",
    "        \"Hi there {}! \"\n",
    "    ],\n",
    "    [\n",
    "        \"This is {} with the Trapezoid of Discovery. \",\n",
    "        \"I'm {} with the Trapezoid of Discovery. \",\n",
    "        \"My name's {} and I'm working with the Trapezoid of Discovery. \",\n",
    "        \"My name is {}, with the Trapezoid of Discovery. \",\n",
    "        \"I'm {}, with the Trapezoid of Discovery. \",\n",
    "        \"My name is {}. I'm working with the Trapezoid of Discovery. \"\n",
    "    ],\n",
    "    [\n",
    "        \"I wanted to check and see if you had a plan to vote today, or if you've already voted. Your polling location is {}, open til 8pm. \",\n",
    "        \"Do you have a plan to vote today, or have you already voted? Your polling location is {}. It's be open until 8! \",\n",
    "        \"I wanted to check if you had a plan for voting today. Your voting location is {}. It's open until 8pm. \",\n",
    "        \"Are you going to vote today? Have you already voted? You can vote at {} until 8pm. \"\n",
    "    ],\n",
    "    [\n",
    "        \"Please let me know if you have any questions, especially about Space Horse. Thank you very much!\",\n",
    "        \"If you have any questions, especially questions about Space Horse, I'm happy to help. Thank you very much!\",\n",
    "        \"If you need anything, or have any questions (especially about Space Horse), I'm very happy to help. Thank you very much!\"]\n",
    "]\n",
    "\n",
    "def write_message():\n",
    "    message = ''\n",
    "    for message_part in message_components:\n",
    "        message += random.choice(message_part)\n",
    "    return message\n",
    "      \n",
    "        \n",
    "write_message()\n",
    "    "
   ]
  },
  {
   "cell_type": "code",
   "execution_count": null,
   "metadata": {},
   "outputs": [],
   "source": [
    "# Add the login information for any Google Voice accounts you'd like to use below.\n",
    "# Obviously plaintext passwords are horribly unsafe so be careful.\n",
    "\n",
    "texters = [\n",
    "    {\n",
    "        \"name\":\"Heath Rubbit\",\n",
    "        \"email\":\"fake.email@gmail.com\",\n",
    "        \"pass\":\"password12345\"\n",
    "    },\n",
    "    {\n",
    "        \"name\":\"Camacho\",\n",
    "        \"email\":\"fake.email2@gmail.com\",\n",
    "        \"pass\":\"password12345\"\n",
    "    },\n",
    "    {\n",
    "        \"name\":\"Hoffbrow\",\n",
    "        \"email\":\"fake.email3@gmail.com\",\n",
    "        \"pass\":\"password12345\"\n",
    "    }\n",
    "]"
   ]
  },
  {
   "cell_type": "code",
   "execution_count": null,
   "metadata": {},
   "outputs": [],
   "source": [
    "# generates a dict of texter name and corresponding GV client\n",
    "\n",
    "clients = {}\n",
    "for texter in texters:\n",
    "    username = texter['email'] \n",
    "    password = texter['pass']\n",
    "    \n",
    "    voice = Voice()\n",
    "    voice.login(username, password)\n",
    "    print texter['name']\n",
    "    \n",
    "    clients[texter['name']]= voice\n",
    "\n",
    "clients"
   ]
  },
  {
   "cell_type": "code",
   "execution_count": 12,
   "metadata": {},
   "outputs": [
    {
     "data": {
      "text/html": [
       "<div>\n",
       "<style scoped>\n",
       "    .dataframe tbody tr th:only-of-type {\n",
       "        vertical-align: middle;\n",
       "    }\n",
       "\n",
       "    .dataframe tbody tr th {\n",
       "        vertical-align: top;\n",
       "    }\n",
       "\n",
       "    .dataframe thead th {\n",
       "        text-align: right;\n",
       "    }\n",
       "</style>\n",
       "<table border=\"1\" class=\"dataframe\">\n",
       "  <thead>\n",
       "    <tr style=\"text-align: right;\">\n",
       "      <th></th>\n",
       "      <th>id</th>\n",
       "      <th>lname</th>\n",
       "      <th>fname</th>\n",
       "      <th>number</th>\n",
       "      <th>polling_place</th>\n",
       "    </tr>\n",
       "  </thead>\n",
       "  <tbody>\n",
       "    <tr>\n",
       "      <th>0</th>\n",
       "      <td>101</td>\n",
       "      <td>Smith</td>\n",
       "      <td>Beavis</td>\n",
       "      <td>(666) 666-6666</td>\n",
       "      <td>ST LUKE'S CHURCH FOR BIG DUMB BOYS</td>\n",
       "    </tr>\n",
       "    <tr>\n",
       "      <th>1</th>\n",
       "      <td>102</td>\n",
       "      <td>Smith</td>\n",
       "      <td>Butt-Head</td>\n",
       "      <td>(420) 555-6969</td>\n",
       "      <td>CLINT'S COMICS</td>\n",
       "    </tr>\n",
       "  </tbody>\n",
       "</table>\n",
       "</div>"
      ],
      "text/plain": [
       "    id  lname      fname          number                       polling_place\n",
       "0  101  Smith     Beavis  (666) 666-6666  ST LUKE'S CHURCH FOR BIG DUMB BOYS\n",
       "1  102  Smith  Butt-Head  (420) 555-6969                      CLINT'S COMICS"
      ]
     },
     "execution_count": 12,
     "metadata": {},
     "output_type": "execute_result"
    }
   ],
   "source": [
    "# Pull in the list you get from VAN or wherever in CSV form. \n",
    "# Here I restricted it to four columns, but you can dick around in Pandas to get what you need\n",
    "\n",
    "df = pd.read_csv('eday.csv')\n",
    "df.columns = ['id','lname','fname','number','polling_place']\n",
    "\n",
    "# Restrict to only people with numbers\n",
    "df = df[pd.notnull(df['number'])]\n",
    "df"
   ]
  },
  {
   "cell_type": "code",
   "execution_count": 11,
   "metadata": {
    "scrolled": false
   },
   "outputs": [
    {
     "name": "stdout",
     "output_type": "stream",
     "text": [
      "Buff is texting Beavis Smith (111)\n",
      "Hi there Beavis! My name is Buff. I'm working with the Trapezoid of Discovery. Are you going to vote today? Have you already voted? You can vote at St Luke'S Church For Big Dumb Boys until 8pm. If you need anything, or have any questions (especially about Space Horse), I'm very happy to help. Thank you very much!\n",
      "Sent!\n",
      "Buff is texting  Butt-Head Smith (111)\n",
      "Hey  Butt-Head! My name's Buff and I'm working with the Trapezoid of Discovery. I wanted to check and see if you had a plan to vote today, or if you've already voted. Your polling location is Clint'S Comics, open til 8pm. If you have any questions, especially questions about Space Horse, I'm happy to help. Thank you very much!\n",
      "Sent!\n"
     ]
    }
   ],
   "source": [
    "# This code takes a given voter, picks a random texter client, generates a message,\n",
    "# fills in the personalized info, and sends the message.\n",
    "\n",
    "counter = 0\n",
    "\n",
    "for index, row in df.iterrows():\n",
    "    \n",
    "    texter_name, texter_client = random.choice(clients.items())\n",
    "    \n",
    "    # use below if data returns phone number as float for some reason\n",
    "    # number = row['number']\n",
    "    # number = str(int(number))\n",
    " \n",
    "    fname = row['fname']\n",
    "    lname = row['lname']\n",
    "    polling_place = row['polling_place'].title()\n",
    "    recip_id = row['id']\n",
    "    \n",
    "    print(\"{} is texting {} {} ({})\").format(texter_name, fname, lname, recip_id)\n",
    "    \n",
    "    text = write_message().format(fname, texter_name, polling_place)\n",
    "    \n",
    "#     print number\n",
    "#     print text\n",
    "#     print ''\n",
    "#     print ''\n",
    "\n",
    "\n",
    "    texter_client.send_sms(number,text)\n",
    "    \n",
    "    print \"Sent!\"\n",
    "    \n",
    "    counter += 1\n",
    "    \n",
    "    if counter % 50 == 0:\n",
    "        print \"\\n \\n \\n {} messages sent \\n \\n \\n \".format(counter)\n",
    "\n",
    "# adjust the sleep time based on the number of clients you have. I tried to \n",
    "# make sure that any given client sent texts no more frequently than once every \n",
    "# ten to fifteen seconds and was able to avoid any rate-limiting.\n",
    "    time.sleep(2)+random.randint(1,3)\n",
    "    "
   ]
  },
  {
   "cell_type": "code",
   "execution_count": null,
   "metadata": {},
   "outputs": [],
   "source": []
  },
  {
   "cell_type": "code",
   "execution_count": null,
   "metadata": {},
   "outputs": [],
   "source": []
  },
  {
   "cell_type": "code",
   "execution_count": null,
   "metadata": {},
   "outputs": [],
   "source": []
  },
  {
   "cell_type": "code",
   "execution_count": null,
   "metadata": {},
   "outputs": [],
   "source": []
  },
  {
   "cell_type": "code",
   "execution_count": null,
   "metadata": {},
   "outputs": [],
   "source": [
    "# TEST ZONE\n",
    "\n",
    "for name, client in clients.iteritems():\n",
    "    text = \"Hi! This is {}\".format(name)\n",
    "    print \"Sending from {}\".format(name)\n",
    "    client.send_sms('your_phone_number',text)"
   ]
  }
 ],
 "metadata": {
  "kernelspec": {
   "display_name": "Python 2",
   "language": "python",
   "name": "python2"
  },
  "language_info": {
   "codemirror_mode": {
    "name": "ipython",
    "version": 2
   },
   "file_extension": ".py",
   "mimetype": "text/x-python",
   "name": "python",
   "nbconvert_exporter": "python",
   "pygments_lexer": "ipython2",
   "version": "2.7.10"
  }
 },
 "nbformat": 4,
 "nbformat_minor": 2
}
